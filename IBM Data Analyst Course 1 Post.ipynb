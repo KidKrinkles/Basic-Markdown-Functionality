{
 "cells": [
  {
   "cell_type": "code",
   "execution_count": null,
   "id": "2b693259",
   "metadata": {},
   "outputs": [],
   "source": [
    "# Title -- My Final"
   ]
  },
  {
   "cell_type": "code",
   "execution_count": null,
   "id": "4c43de5b",
   "metadata": {},
   "outputs": [],
   "source": [
    "# This is my introduction to my final."
   ]
  },
  {
   "cell_type": "code",
   "execution_count": null,
   "id": "72ec5904",
   "metadata": {},
   "outputs": [],
   "source": [
    "## Objectives: \n",
    "# - List popular languages that data scientists use.\n",
    "# - List commonly used libraries used by Data Scientists.\n",
    "# - Comment on Data Science tools."
   ]
  },
  {
   "cell_type": "code",
   "execution_count": null,
   "id": "b8743812",
   "metadata": {},
   "outputs": [],
   "source": [
    "# This is a list of data science languages.\n",
    "# - Python\n",
    "# - R\n",
    "# - SQL\n",
    "# - Julia \n",
    "# - Scala\n",
    "# - Swift\n",
    "# - Java\n",
    "# - JavaScript"
   ]
  },
  {
   "cell_type": "code",
   "execution_count": null,
   "id": "af8dac5f",
   "metadata": {},
   "outputs": [],
   "source": [
    "#  This is a list of data science libraries.\n",
    "\n",
    "1. Tensor Flow\n",
    "2. NumPy.\n",
    "3. Scipy.\n",
    "4. Matplotlib\n",
    "5. PyTorch\n",
    "6. Caffe2.\n",
    "7 Scrapy.\n",
    "8. Pandas.\n",
    "9. BeautifulSoup.\n",
    "10. Pipenv."
   ]
  },
  {
   "cell_type": "code",
   "execution_count": null,
   "id": "31e9b034",
   "metadata": {},
   "outputs": [],
   "source": [
    "| Data Science Tool Name | Count |\n",
    "| --- | --- | \n",
    "| Apache Spark | 1 |"
   ]
  },
  {
   "cell_type": "code",
   "execution_count": null,
   "id": "9b401b4d",
   "metadata": {},
   "outputs": [],
   "source": [
    "# Arithmetic operations\n",
    "math = compile(\"35 + 34\", \"<string>\", \"eval\")\n",
    "eval(math)"
   ]
  },
  {
   "cell_type": "code",
   "execution_count": null,
   "id": "21bfbffe",
   "metadata": {},
   "outputs": [],
   "source": [
    "# Multiplication operation\n",
    "\n",
    "multiply = (1*2*3*4*5*6*7*8*9)\n",
    "multiply"
   ]
  },
  {
   "cell_type": "code",
   "execution_count": null,
   "id": "b69e0c4f",
   "metadata": {},
   "outputs": [],
   "source": [
    "# Code cell to convert minutes to hours.\n",
    "\n",
    "hours = 0\n",
    "minutes = 0\n",
    "\n",
    "# We'll convert 666 minutes to hours.\n",
    "\n",
    "timeToConvert = 666\n",
    "print(\"Time to Convert: \" + str(timeToConvert))\n",
    "unconvertedTime = convertTime % 60\n",
    "print(\"Unconverted Time: \" + str(unconvertedTime))\n",
    "convertedTime = timeToConvert // 60\n",
    "print(\"Converted Time: \" + str(convertedTime))\n",
    "PrintedTime = print(str(timeToConvert) + \" is equal to \" + str(convertedTime) + \" hours and \" + str(unconvertedTime) + \" minutes!\")\n",
    "\n",
    "\n"
   ]
  },
  {
   "cell_type": "code",
   "execution_count": null,
   "id": "244bba85",
   "metadata": {},
   "outputs": [],
   "source": [
    "# Author:\n",
    "## Ryan Wm. Greene"
   ]
  }
 ],
 "metadata": {
  "kernelspec": {
   "display_name": "Python 3 (ipykernel)",
   "language": "python",
   "name": "python3"
  },
  "language_info": {
   "codemirror_mode": {
    "name": "ipython",
    "version": 3
   },
   "file_extension": ".py",
   "mimetype": "text/x-python",
   "name": "python",
   "nbconvert_exporter": "python",
   "pygments_lexer": "ipython3",
   "version": "3.9.7"
  }
 },
 "nbformat": 4,
 "nbformat_minor": 5
}
