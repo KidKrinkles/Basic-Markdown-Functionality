{
 "cells": [
  {
   "cell_type": "markdown",
   "id": "2a6febf9",
   "metadata": {},
   "source": [
    "# Title -- My Final"
   ]
  },
  {
   "cell_type": "markdown",
   "id": "6712e3e2",
   "metadata": {},
   "source": [
    "# This is my introduction to my final."
   ]
  },
  {
   "cell_type": "markdown",
   "id": "752306fa",
   "metadata": {},
   "source": [
    "# Objectives: \n",
    "## - List popular languages that data scientists use.\n",
    "## - List commonly used libraries used by Data Scientists.\n",
    "## - Comment on Data Science tools."
   ]
  },
  {
   "cell_type": "markdown",
   "id": "e67c199d",
   "metadata": {},
   "source": [
    "# This is a list of data science languages.\n",
    "- Python\n",
    "- R\n",
    "- SQL\n",
    "- Julia \n",
    "- Scala\n",
    "- Swift\n",
    "- Java\n",
    "- JavaScript"
   ]
  },
  {
   "cell_type": "markdown",
   "id": "8a1b7fa0",
   "metadata": {},
   "source": [
    "#  This is a list of data science libraries.\n",
    "\n",
    "1. Tensor Flow\n",
    "2. NumPy.\n",
    "3. Scipy.\n",
    "4. Matplotlib\n",
    "5. PyTorch\n",
    "6. Caffe2.\n",
    "7. Scrapy.\n",
    "8. Pandas.\n",
    "9. BeautifulSoup.\n",
    "10. Pipenv."
   ]
  },
  {
   "cell_type": "markdown",
   "id": "adf8bb79",
   "metadata": {},
   "source": [
    "| Data Science Tool Name | Seq |\n",
    "| --- | --- | \n",
    "| Apache Spark | 1 |\n",
    "| SAS | 2 | \n",
    "| Tableau | 3 | \n",
    "| MATLAB | 4 | "
   ]
  },
  {
   "cell_type": "markdown",
   "id": "2e2f1d08",
   "metadata": {},
   "source": [
    "# Seen below are some basic arithmetic operations."
   ]
  },
  {
   "cell_type": "code",
   "execution_count": 1,
   "id": "0f86745f",
   "metadata": {},
   "outputs": [
    {
     "data": {
      "text/plain": [
       "69"
      ]
     },
     "execution_count": 1,
     "metadata": {},
     "output_type": "execute_result"
    }
   ],
   "source": [
    "# Arithmetic operations\n",
    "math = compile(\"35 + 34\", \"<string>\", \"eval\")\n",
    "eval(math)"
   ]
  },
  {
   "cell_type": "code",
   "execution_count": 2,
   "id": "21bfbffe",
   "metadata": {},
   "outputs": [
    {
     "data": {
      "text/plain": [
       "362880"
      ]
     },
     "execution_count": 2,
     "metadata": {},
     "output_type": "execute_result"
    }
   ],
   "source": [
    "# Multiplication operation\n",
    "\n",
    "multiply = (1*2*3*4*5*6*7*8*9)\n",
    "multiply"
   ]
  },
  {
   "cell_type": "code",
   "execution_count": 3,
   "id": "b69e0c4f",
   "metadata": {},
   "outputs": [
    {
     "name": "stdout",
     "output_type": "stream",
     "text": [
      "Time to Convert: 666\n",
      "Unconverted Time: 6\n",
      "Converted Time: 11\n",
      "666 is equal to 11 hours and 6 minutes!\n"
     ]
    }
   ],
   "source": [
    "# Code cell to convert minutes to hours.\n",
    "\n",
    "hours = 0\n",
    "minutes = 0\n",
    "\n",
    "# We'll convert 666 minutes to hours.\n",
    "\n",
    "timeToConvert = 666\n",
    "print(\"Time to Convert: \" + str(timeToConvert))\n",
    "unconvertedTime = timeToConvert % 60\n",
    "print(\"Unconverted Time: \" + str(unconvertedTime))\n",
    "convertedTime = timeToConvert // 60\n",
    "print(\"Converted Time: \" + str(convertedTime))\n",
    "PrintedTime = print(str(timeToConvert) + \" is equal to \" + str(convertedTime) + \" hours and \" + str(unconvertedTime) + \" minutes!\")\n",
    "\n",
    "\n"
   ]
  },
  {
   "cell_type": "markdown",
   "id": "a718fed8",
   "metadata": {},
   "source": [
    "# Author:\n",
    "## Ryan Wm. Greene"
   ]
  }
 ],
 "metadata": {
  "kernelspec": {
   "display_name": "Python 3 (ipykernel)",
   "language": "python",
   "name": "python3"
  },
  "language_info": {
   "codemirror_mode": {
    "name": "ipython",
    "version": 3
   },
   "file_extension": ".py",
   "mimetype": "text/x-python",
   "name": "python",
   "nbconvert_exporter": "python",
   "pygments_lexer": "ipython3",
   "version": "3.9.7"
  }
 },
 "nbformat": 4,
 "nbformat_minor": 5
}
